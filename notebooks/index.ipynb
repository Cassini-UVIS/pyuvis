{
 "cells": [
  {
   "cell_type": "markdown",
   "metadata": {},
   "source": [
    "# pyuvis\n",
    "\n",
    "> This package provides tools to work with Cassini UVIS data."
   ]
  },
  {
   "cell_type": "markdown",
   "metadata": {},
   "source": [
    "## How to install"
   ]
  },
  {
   "cell_type": "markdown",
   "metadata": {},
   "source": [
    "`pip install pyuvis`"
   ]
  },
  {
   "cell_type": "markdown",
   "metadata": {},
   "source": [
    "## How to use"
   ]
  },
  {
   "cell_type": "markdown",
   "metadata": {},
   "source": [
    "The tools in here depend on my now also much improved general `planetarypy` package, and the pip installer will look for the minimum required version of 0.12.\n",
    "\n",
    "When launched for the first time, `planetarypy` will ask for a storage path for all data managed by `planetarypy`.\n",
    "\n",
    "When using the `planetarypy.ctx` or `planetarypy.hirise` modules for the first time, they will automatically find, download, and convert the respective PDS index file, so please be patient.\n",
    "After this it will be very fast, as the index is stored in HDF5 format.\n",
    "\n",
    "If you are later interested in getting these indexes for more data search, do this:"
   ]
  },
  {
   "cell_type": "code",
   "execution_count": null,
   "metadata": {},
   "outputs": [],
   "source": []
  }
 ],
 "metadata": {
  "kernelspec": {
   "display_name": "Python 3 (ipykernel)",
   "language": "python",
   "name": "python3"
  }
 },
 "nbformat": 4,
 "nbformat_minor": 4
}
