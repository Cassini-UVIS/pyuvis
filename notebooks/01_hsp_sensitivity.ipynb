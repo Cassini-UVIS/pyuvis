{
 "cells": [
  {
   "cell_type": "code",
   "execution_count": null,
   "metadata": {},
   "outputs": [],
   "source": [
    "# default_exp hsp_sensitivity"
   ]
  },
  {
   "cell_type": "markdown",
   "metadata": {},
   "source": [
    "# HSP Sensitivity\n",
    "> Sensitivity numbers for HSP"
   ]
  },
  {
   "cell_type": "code",
   "execution_count": null,
   "metadata": {},
   "outputs": [],
   "source": [
    "#export\n",
    "import pandas as pd\n",
    "from io import StringIO"
   ]
  },
  {
   "cell_type": "code",
   "execution_count": null,
   "metadata": {},
   "outputs": [],
   "source": [
    "#export\n",
    "data = \"\"\"1130.00         0.00000\n",
    "1140.00         0.0270549\n",
    "1150.00         0.0390556\n",
    "1160.00         0.0511593\n",
    "1170.00         0.0560159\n",
    "1180.00         0.0645439\n",
    "1190.00         0.0705074\n",
    "1200.00         0.0778497\n",
    "1210.00         0.0810836\n",
    "1220.00         0.0915620\n",
    "1230.00         0.0993767\n",
    "1240.00         0.102783\n",
    "1250.00         0.110385\n",
    "1260.00         0.114058\n",
    "1270.00         0.118549\n",
    "1280.00         0.123220\n",
    "1290.00         0.123048\n",
    "1300.00         0.121375\n",
    "1310.00         0.129776\n",
    "1320.00         0.133781\n",
    "1330.00         0.140251\n",
    "1340.00         0.145286\n",
    "1350.00         0.143884\n",
    "1360.00         0.147813\n",
    "1370.00         0.146146\n",
    "1380.00         0.144396\n",
    "1390.00         0.150510\n",
    "1400.00         0.151467\n",
    "1410.00         0.149956\n",
    "1420.00         0.145171\n",
    "1430.00         0.143898\n",
    "1440.00         0.136842\n",
    "1450.00         0.144043\n",
    "1460.00         0.145993\n",
    "1470.00         0.149858\n",
    "1480.00         0.149426\n",
    "1490.00         0.148534\n",
    "1500.00         0.148939\n",
    "1510.00         0.149116\n",
    "1520.00         0.147436\n",
    "1530.00         0.146430\n",
    "1540.00         0.152721\n",
    "1550.00         0.147942\n",
    "1560.00         0.133399\n",
    "1570.00         0.132017\n",
    "1580.00         0.127328\n",
    "1590.00         0.112406\n",
    "1600.00         0.118397\n",
    "1610.00         0.108828\n",
    "1620.00         0.130915\n",
    "1630.00         0.122729\n",
    "1640.00         0.136309\n",
    "1650.00         0.130725\n",
    "1660.00         0.131107\n",
    "1670.00         0.126259\n",
    "1680.00         0.119278\n",
    "1690.00         0.109329\n",
    "1700.00         0.103477\n",
    "1710.00         0.0957879\n",
    "1720.00         0.0880108\n",
    "1730.00         0.0806759\n",
    "1740.00         0.0761473\n",
    "1750.00         0.0680325\n",
    "1760.00         0.0620168\n",
    "1770.00         0.0560484\n",
    "1780.00         0.0500040\n",
    "1790.00         0.0450547\n",
    "1800.00         0.0403837\n",
    "\"\"\""
   ]
  },
  {
   "cell_type": "code",
   "execution_count": null,
   "metadata": {},
   "outputs": [],
   "source": [
    "#export\n",
    "s = StringIO(data)"
   ]
  },
  {
   "cell_type": "code",
   "execution_count": null,
   "metadata": {},
   "outputs": [],
   "source": [
    "#export\n",
    "sens_df = pd.read_fwf(s, names=['wavelength', 'sensitivity'], index_col=0)"
   ]
  },
  {
   "cell_type": "code",
   "execution_count": null,
   "metadata": {},
   "outputs": [],
   "source": []
  }
 ],
 "metadata": {
  "jupytext": {
   "split_at_heading": true
  },
  "kernelspec": {
   "display_name": "Python [conda env:py38]",
   "language": "python",
   "name": "conda-env-py38-py"
  }
 },
 "nbformat": 4,
 "nbformat_minor": 4
}
