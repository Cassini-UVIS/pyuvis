{
 "cells": [
  {
   "cell_type": "code",
   "execution_count": 24,
   "metadata": {
    "collapsed": false
   },
   "outputs": [],
   "source": [
    "%matplotlib inline\n",
    "import matplotlib.pyplot as plt"
   ]
  },
  {
   "cell_type": "code",
   "execution_count": 25,
   "metadata": {
    "collapsed": false
   },
   "outputs": [],
   "source": [
    "from pyuvis import QUBE"
   ]
  },
  {
   "cell_type": "code",
   "execution_count": 26,
   "metadata": {
    "collapsed": false
   },
   "outputs": [],
   "source": [
    "lbl = '/Volumes/Data/backup/data/uvis/EUV2010_137_23_20.LBL'"
   ]
  },
  {
   "cell_type": "code",
   "execution_count": 4,
   "metadata": {
    "collapsed": true
   },
   "outputs": [],
   "source": [
    "import pvl"
   ]
  },
  {
   "cell_type": "code",
   "execution_count": 10,
   "metadata": {
    "collapsed": false
   },
   "outputs": [],
   "source": [
    "lblwrapper = pvl.io.open(lbl)"
   ]
  },
  {
   "cell_type": "code",
   "execution_count": 15,
   "metadata": {
    "collapsed": false
   },
   "outputs": [],
   "source": [
    "label = pvl.load(lbl)"
   ]
  },
  {
   "cell_type": "code",
   "execution_count": 18,
   "metadata": {
    "collapsed": false
   },
   "outputs": [
    {
     "data": {
      "text/plain": [
       "dict_keys(['^QUBE', 'CENTRAL_BODY_DISTANCE', 'RECORD_TYPE', 'DECLINATION', 'RIGHT_ASCENSION', 'MISSION_PHASE_NAME', 'DESCRIPTION', 'OBSERVATION_ID', 'INSTRUMENT_HOST_NAME', 'PDS_VERSION_ID', 'INCIDENCE_ANGLE', 'COMPRESSION_TYPE', 'PRODUCT_ID', 'INSTRUMENT_ID', 'SUB_SPACECRAFT_LATITUDE', 'INSTRUMENT_NAME', 'SC_PLANET_POSITION_VECTOR', 'HI_VOLTAGE_POWER_SUPPLY_STATE', 'TEST_PULSE_STATE', 'SC_SUN_POSITION_VECTOR', 'PLANET_CENTER_POSITION_VECTOR', 'INTEGRATION_DURATION', 'SUB_SPACECRAFT_LONGITUDE', 'SUB_SOLAR_LONGITUDE', 'SPACECRAFT_CLOCK_START_COUNT', 'SC_SUN_VELOCITY_VECTOR', 'RECORD_BYTES', 'EMISSION_ANGLE', 'PHASE_ANGLE', 'SC_PLANET_VELOCITY_VECTOR', 'ODC_ID', 'SC_TARGET_POSITION_VECTOR', 'SC_TARGET_VELOCITY_VECTOR', 'SUB_SOLAR_LATITUDE', 'OCCULTATION_PORT_STATE', 'SLIT_STATE', 'SPACECRAFT_CLOCK_STOP_COUNT', 'TARGET_NAME', 'PRODUCT_CREATION_TIME', 'QUBE', 'STOP_TIME', 'FILE_RECORDS', 'PLANET_CENTER_VELOCITY_VECTOR', 'DATA_SET_ID', 'START_TIME'])"
      ]
     },
     "execution_count": 18,
     "metadata": {},
     "output_type": "execute_result"
    }
   ],
   "source": [
    "label.keys()"
   ]
  },
  {
   "cell_type": "code",
   "execution_count": 23,
   "metadata": {
    "collapsed": false,
    "scrolled": false
   },
   "outputs": [
    {
     "data": {
      "text/plain": [
       "(1024, 64, 9748)"
      ]
     },
     "execution_count": 23,
     "metadata": {},
     "output_type": "execute_result"
    }
   ],
   "source": [
    "tuple(label['QUBE']['CORE_ITEMS'])"
   ]
  },
  {
   "cell_type": "code",
   "execution_count": 20,
   "metadata": {
    "collapsed": false
   },
   "outputs": [
    {
     "name": "stdout",
     "output_type": "stream",
     "text": [
      "PDS_VERSION_ID                  = PDS3\r",
      "\r\n",
      "RECORD_TYPE                     = FIXED_LENGTH\r",
      "\r\n",
      "RECORD_BYTES                    = 131072\r",
      "\r\n",
      "FILE_RECORDS                    = 9748\r",
      "\r\n",
      "PRODUCT_ID                      = \"EUV2010_137_23_20\"\r",
      "\r\n",
      "SPACECRAFT_CLOCK_START_COUNT    = \"1/1652832323.128\"\r",
      "\r\n",
      "SPACECRAFT_CLOCK_STOP_COUNT     = \"UNK\"\r",
      "\r\n",
      "START_TIME                      = 2010-137T23:20:24.514\r",
      "\r\n",
      "STOP_TIME                       = 2010-138T02:02:52.514\r",
      "\r\n",
      "DATA_SET_ID                     = \"CO-S-UVIS-2-CUBE-V1.2\"\r",
      "\r\n",
      "TARGET_NAME                     = \"SATURN\"\r",
      "\r\n",
      "INSTRUMENT_HOST_NAME            = \"CASSINI_ORBITER\"\r",
      "\r\n",
      "INSTRUMENT_NAME                 = \"ULTRAVIOLET IMAGING SPECTROMETER\"\r",
      "\r\n",
      "INSTRUMENT_ID                   = \"UVIS\"\r",
      "\r\n",
      "OBSERVATION_ID                  = 127838\r",
      "\r\n",
      "MISSION_PHASE_NAME              = TOUR\r",
      "\r\n",
      "PRODUCT_CREATION_TIME           = 2011-088\r",
      "\r\n",
      "INTEGRATION_DURATION            = 1.000 <SECOND>\r",
      "\r\n",
      "COMPRESSION_TYPE                = \"SQRT_9\"\r",
      "\r\n",
      "HI_VOLTAGE_POWER_SUPPLY_STATE   = ON\r",
      "\r\n",
      "OCCULTATION_PORT_STATE          = OPEN\r",
      "\r\n",
      "SLIT_STATE                      = OCCULTATION\r",
      "\r\n",
      "TEST_PULSE_STATE                = OFF\r",
      "\r\n",
      "ODC_ID                          = 1124\r",
      "\r\n",
      "DESCRIPTION                     = \"\r",
      "\r\n",
      "  This file was produced by the Cassini UVIS team at the Laboratory\r",
      "\r\n",
      "  for Atmospheric and Space Physics (LASP) at the University of Colorado\r",
      "\r\n",
      "  at Boulder.  For a description of hardware and scientific objectives,\r",
      "\r\n",
      "  refer to the Cassini UVIS instrument paper The Cassini Ultraviolet\r",
      "\r\n",
      "  Imaging Spectrograph Investigation, Space Science Reviews, 115, 299-361,\r",
      "\r\n",
      "  by L. W. Esposito et. al.\"\r",
      "\r\n",
      " \r",
      "\r\n",
      "RIGHT_ASCENSION           = 16.058517 <DEGREE>\r",
      "\r\n",
      "DECLINATION               = 15.019518 <DEGREE>\r",
      "\r\n",
      "SUB_SOLAR_LATITUDE        = 3.4561771 <DEGREE>\r",
      "\r\n",
      "SUB_SOLAR_LONGITUDE       = 47.676130 <DEGREE>\r",
      "\r\n",
      "SUB_SPACECRAFT_LATITUDE   = 0.10645557 <DEGREE>\r",
      "\r\n",
      "SUB_SPACECRAFT_LONGITUDE  = 223.61306 <DEGREE>\r",
      "\r\n",
      "PHASE_ANGLE               = 159.91206 <DEGREE>\r",
      "\r\n",
      "EMISSION_ANGLE            = 92.300148 <DEGREE>\r",
      "\r\n",
      "INCIDENCE_ANGLE           = 106.71585 <DEGREE>\r",
      "\r\n",
      "CENTRAL_BODY_DISTANCE     = 364702.09 <KM>\r",
      "\r\n",
      "SC_PLANET_POSITION_VECTOR =   \r",
      "\r\n",
      "(419358.83<KM>, 55213.885<KM>, -41099.251<KM>)\r",
      "\r\n",
      "SC_PLANET_VELOCITY_VECTOR =   \r",
      "\r\n",
      "(-9.4662494<KM/S>, 7.9076517<KM/S>, 0.28504535<KM/S>)\r",
      "\r\n",
      "SC_SUN_POSITION_VECTOR    =   \r",
      "\r\n",
      "(-1.4209069e+09<KM>, -92448209.0<KM>, 23030008.0<KM>)\r",
      "\r\n",
      "SC_SUN_VELOCITY_VECTOR    =   \r",
      "\r\n",
      "(8.5580579<KM/S>, -16.912012<KM/S>, -3.8859014<KM/S>)\r",
      "\r\n",
      "SC_TARGET_POSITION_VECTOR =   \r",
      "\r\n",
      "(419358.83<KM>, 55213.885<KM>, -41099.251<KM>)\r",
      "\r\n",
      "SC_TARGET_VELOCITY_VECTOR =   \r",
      "\r\n",
      "(-9.4662494<KM/S>, 7.9076517<KM/S>, 0.28504535<KM/S>)\r",
      "\r\n",
      "PLANET_CENTER_POSITION_VECTOR =   \r",
      "\r\n",
      "(-1.4210529e+09<KM>, -92181327.0<KM>, 23098734.0<KM>)\r",
      "\r\n",
      "PLANET_CENTER_VELOCITY_VECTOR =   \r",
      "\r\n",
      "(-0.0050747230<KM/S>, -8.9373761<KM/S>, -3.6907002<KM/S>)\r",
      "\r\n",
      "^QUBE                           = \"EUV2010_137_23_20.DAT\"\r",
      "\r\n",
      "OBJECT                          = QUBE\r",
      "\r\n",
      "  AXES                          = 3\r",
      "\r\n",
      "  AXIS_NAME                     = (BAND, LINE, SAMPLE)\r",
      "\r\n",
      "  CORE_ITEMS                    = (1024, 64, 9748)\r",
      "\r\n",
      "  CORE_ITEM_BYTES               = 2\r",
      "\r\n",
      "  CORE_ITEM_TYPE                = MSB_UNSIGNED_INTEGER\r",
      "\r\n",
      "  CORE_BASE                     = 0.0\r",
      "\r\n",
      "  CORE_MULTIPLIER               = 1.0\r",
      "\r\n",
      "  CORE_VALID_MINIMUM            = \"N/A\"\r",
      "\r\n",
      "  CORE_NULL                     = -1\r",
      "\r\n",
      "  CORE_LOW_REPR_SATURATION      = \"N/A\"\r",
      "\r\n",
      "  CORE_LOW_INSTR_SATURATION     = \"N/A\"\r",
      "\r\n",
      "  CORE_HIGH_INSTR_SATURATION    = \"N/A\"\r",
      "\r\n",
      "  CORE_HIGH_REPR_SATURATION     = \"N/A\"\r",
      "\r\n",
      "  CORE_NAME                     = RAW_DATA_NUMBER\r",
      "\r\n",
      "  CORE_UNIT                     = \"COUNTS/BIN\"\r",
      "\r\n",
      "  BAND_BIN_CENTER               = \"N/A\"\r",
      "\r\n",
      "  SUFFIX_BYTES                  = 4\r",
      "\r\n",
      "  SUFFIX_ITEMS                  = (0,0,0)\r",
      "\r\n",
      "  DESCRIPTION                   = \"This UVIS Qube is a 3 dimensional matrix\r",
      "\r\n",
      "    of 2 byte integers.  The Qube represents a time series of two dimensional\r",
      "\r\n",
      "    (spectral x spatial) matrices.  Each two dimensional matrix is made up of\r",
      "\r\n",
      "    counts taken by the detector during a fixed time interval.  The fixed\r",
      "\r\n",
      "    time interval is specified in the INTEGRATION_DURATION keyword.  If the\r",
      "\r\n",
      "    two dimensional matrix has a LINE magnitude of 1 then the Qube is a time\r",
      "\r\n",
      "    series of spectra.  The region of the detector in which data was taken is\r",
      "\r\n",
      "    defined by the ...CORNER keywords.\r",
      "\r\n",
      "       This object is organized so that a sequence of 1024 2-byte numbers\r",
      "\r\n",
      "    forms a horizontal line (the BAND dimension), a sequence of 64 lines\r",
      "\r\n",
      "    forms an BANDxLINE spectral-spatial matrix, and sequence of 9,748 of\r",
      "\r\n",
      "    these matrices, forms a (1024x64x9748)  Qube.\r",
      "\r\n",
      "        The purpose of this observation is to Measure transmission of EUV\r",
      "\r\n",
      "    solar radiation through the Saturn atmosphere. Obtain atmospheric\r",
      "\r\n",
      "    vertical temperature distribution, composition.\"\r",
      "\r\n",
      "  UL_CORNER_LINE                = 4\r",
      "\r\n",
      "  UL_CORNER_BAND                = 0\r",
      "\r\n",
      "  LR_CORNER_LINE                = 57\r",
      "\r\n",
      "  LR_CORNER_BAND                = 1023\r",
      "\r\n",
      "  BAND_BIN                      = 1\r",
      "\r\n",
      "  LINE_BIN                      = 27\r",
      "\r\n",
      "END_OBJECT                      = QUBE\r",
      "\r\n",
      "END\r",
      "\r\n"
     ]
    }
   ],
   "source": [
    "cat {lbl}"
   ]
  },
  {
   "cell_type": "code",
   "execution_count": null,
   "metadata": {
    "collapsed": true
   },
   "outputs": [],
   "source": []
  },
  {
   "cell_type": "code",
   "execution_count": 28,
   "metadata": {
    "collapsed": false
   },
   "outputs": [],
   "source": [
    "qube = QUBE(lbl)"
   ]
  },
  {
   "cell_type": "code",
   "execution_count": 30,
   "metadata": {
    "collapsed": false
   },
   "outputs": [
    {
     "data": {
      "text/plain": [
       "LabelObject([\n",
       "  ('AXES', 3)\n",
       "  ('AXIS_NAME', ['BAND', 'LINE', 'SAMPLE'])\n",
       "  ('CORE_ITEMS', [1024, 64, 9748])\n",
       "  ('CORE_ITEM_BYTES', 2)\n",
       "  ('CORE_ITEM_TYPE', 'MSB_UNSIGNED_INTEGER')\n",
       "  ('CORE_BASE', 0.0)\n",
       "  ('CORE_MULTIPLIER', 1.0)\n",
       "  ('CORE_VALID_MINIMUM', 'N/A')\n",
       "  ('CORE_NULL', -1)\n",
       "  ('CORE_LOW_REPR_SATURATION', 'N/A')\n",
       "  ('CORE_LOW_INSTR_SATURATION', 'N/A')\n",
       "  ('CORE_HIGH_INSTR_SATURATION', 'N/A')\n",
       "  ('CORE_HIGH_REPR_SATURATION', 'N/A')\n",
       "  ('CORE_NAME', 'RAW_DATA_NUMBER')\n",
       "  ('CORE_UNIT', 'COUNTS/BIN')\n",
       "  ('BAND_BIN_CENTER', 'N/A')\n",
       "  ('SUFFIX_BYTES', 4)\n",
       "  ('SUFFIX_ITEMS', [0, 0, 0])\n",
       "  ('DESCRIPTION',\n",
       "   'This UVIS Qube is a 3 dimensional matrix of 2 byte integers. The Qube '\n",
       "   'represents a time series of two dimensional (spectral x spatial) matrices. '\n",
       "   'Each two dimensional matrix is made up of counts taken by the detector '\n",
       "   'during a fixed time interval. The fixed time interval is specified in the '\n",
       "   'INTEGRATION_DURATION keyword. If the two dimensional matrix has a LINE '\n",
       "   'magnitude of 1 then the Qube is a time series of spectra. The region of '\n",
       "   'the detector in which data was taken is defined by the ...CORNER keywords. '\n",
       "   'This object is organized so that a sequence of 1024 2-byte numbers forms a '\n",
       "   'horizontal line (the BAND dimension), a sequence of 64 lines forms an '\n",
       "   'BANDxLINE spectral-spatial matrix, and sequence of 9,748 of these '\n",
       "   'matrices, forms a (1024x64x9748) Qube. The purpose of this observation is '\n",
       "   'to Measure transmission of EUV solar radiation through the Saturn '\n",
       "   'atmosphere. Obtain atmospheric vertical temperature distribution, '\n",
       "   'composition.')\n",
       "  ('UL_CORNER_LINE', 4)\n",
       "  ('UL_CORNER_BAND', 0)\n",
       "  ('LR_CORNER_LINE', 57)\n",
       "  ('LR_CORNER_BAND', 1023)\n",
       "  ('BAND_BIN', 1)\n",
       "  ('LINE_BIN', 27)\n",
       "])"
      ]
     },
     "execution_count": 30,
     "metadata": {},
     "output_type": "execute_result"
    }
   ],
   "source": []
  },
  {
   "cell_type": "code",
   "execution_count": 19,
   "metadata": {
    "collapsed": false
   },
   "outputs": [],
   "source": [
    "from IPython.html.widgets import interactive"
   ]
  },
  {
   "cell_type": "code",
   "execution_count": 20,
   "metadata": {
    "collapsed": false
   },
   "outputs": [
    {
     "data": {
      "text/plain": [
       "(1024, 64, 2)"
      ]
     },
     "execution_count": 20,
     "metadata": {},
     "output_type": "execute_result"
    }
   ],
   "source": [
    "qube.shape"
   ]
  },
  {
   "cell_type": "code",
   "execution_count": 21,
   "metadata": {
    "collapsed": false
   },
   "outputs": [
    {
     "data": {
      "image/png": "[encoded data removed]",
      "text/plain": [
       "<matplotlib.figure.Figure at 0x1085d1c90>"
      ]
     },
     "metadata": {},
     "output_type": "display_data"
    }
   ],
   "source": [
    "def show_slice(i):\n",
    "    im = plt.imshow(qube.data[i], aspect='auto', interpolation='nearest',\n",
    "           cmap=plt.cm.spectral)\n",
    "    plt.colorbar(im, ax=plt.gca())\n",
    "interactive(show_slice, i=(0,qube.shape[0]))"
   ]
  },
  {
   "cell_type": "markdown",
   "metadata": {},
   "source": [
    "The preview data from the UVIS data catalog seems to be often the mean value over the bands, at least I could match the preview images quite often. Just for your data file, it does not make sense yet, but maybe because of the missing binning implementation."
   ]
  },
  {
   "cell_type": "code",
   "execution_count": 22,
   "metadata": {
    "collapsed": false
   },
   "outputs": [
    {
     "data": {
      "text/plain": [
       "<matplotlib.image.AxesImage at 0x1084b0ad0>"
      ]
     },
     "execution_count": 22,
     "metadata": {},
     "output_type": "execute_result"
    },
    {
     "data": {
      "image/png": "[encoded data removed]",
      "text/plain": [
       "<matplotlib.figure.Figure at 0x10a80df50>"
      ]
     },
     "metadata": {},
     "output_type": "display_data"
    }
   ],
   "source": [
    "plt.imshow(qube.data.mean(axis=0), aspect='auto', interpolation='nearest',\n",
    "           cmap=plt.cm.rainbow)"
   ]
  },
  {
   "cell_type": "code",
   "execution_count": null,
   "metadata": {
    "collapsed": false
   },
   "outputs": [],
   "source": []
  }
 ],
 "metadata": {
  "kernelspec": {
   "display_name": "Python 3",
   "language": "python",
   "name": "python3"
  },
  "language_info": {
   "codemirror_mode": {
    "name": "ipython",
    "version": 3
   },
   "file_extension": ".py",
   "mimetype": "text/x-python",
   "name": "python",
   "nbconvert_exporter": "python",
   "pygments_lexer": "ipython3",
   "version": "3.4.3"
  }
 },
 "nbformat": 4,
 "nbformat_minor": 0
}
